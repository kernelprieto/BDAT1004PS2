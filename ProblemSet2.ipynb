{
 "cells": [
  {
   "cell_type": "markdown",
   "id": "102a4f83",
   "metadata": {},
   "source": [
    "## Problem Set 2"
   ]
  },
  {
   "cell_type": "markdown",
   "id": "672b5df7",
   "metadata": {},
   "source": [
    "## Question 1\n",
    "Consider the following Python module:\n",
    "\n",
    "a = 0\n",
    "\n",
    "def b(): \\\n",
    "&emsp;   global a \\\n",
    "&emsp;   a = c(a)\n",
    "\n",
    "def c(a): \\\n",
    "&emsp; return a + 2\n",
    "\n",
    "After importing the module into the interpreter, you execute:"
   ]
  },
  {
   "cell_type": "markdown",
   "id": "9f20b925",
   "metadata": {},
   "source": [
    "There are two possible answers depending on how one imports the module:"
   ]
  },
  {
   "cell_type": "code",
   "execution_count": 1,
   "id": "f60f48fa",
   "metadata": {},
   "outputs": [],
   "source": [
    "from add2 import *"
   ]
  },
  {
   "cell_type": "code",
   "execution_count": 2,
   "id": "044c88f0",
   "metadata": {},
   "outputs": [],
   "source": [
    "b()  # the global variable a= 0"
   ]
  },
  {
   "cell_type": "code",
   "execution_count": 3,
   "id": "da33d69e",
   "metadata": {},
   "outputs": [],
   "source": [
    "b() # the global variable a= 0"
   ]
  },
  {
   "cell_type": "code",
   "execution_count": 4,
   "id": "09e1d3d4",
   "metadata": {},
   "outputs": [],
   "source": [
    "b() # the global variable a= 0"
   ]
  },
  {
   "cell_type": "code",
   "execution_count": 5,
   "id": "de19947e",
   "metadata": {},
   "outputs": [
    {
     "data": {
      "text/plain": [
       "0"
      ]
     },
     "execution_count": 5,
     "metadata": {},
     "output_type": "execute_result"
    }
   ],
   "source": [
    "a  # calls for the value of a which is equal to 0"
   ]
  },
  {
   "cell_type": "code",
   "execution_count": 1,
   "id": "03156de3",
   "metadata": {},
   "outputs": [],
   "source": [
    "from add2 import b"
   ]
  },
  {
   "cell_type": "code",
   "execution_count": 2,
   "id": "fe66b58b",
   "metadata": {},
   "outputs": [],
   "source": [
    "b()"
   ]
  },
  {
   "cell_type": "code",
   "execution_count": 3,
   "id": "64df3bca",
   "metadata": {},
   "outputs": [],
   "source": [
    "b()"
   ]
  },
  {
   "cell_type": "code",
   "execution_count": 4,
   "id": "3204ba95",
   "metadata": {},
   "outputs": [],
   "source": [
    "b()"
   ]
  },
  {
   "cell_type": "code",
   "execution_count": 5,
   "id": "1f252cf2",
   "metadata": {},
   "outputs": [
    {
     "ename": "NameError",
     "evalue": "name 'a' is not defined",
     "output_type": "error",
     "traceback": [
      "\u001b[0;31m---------------------------------------------------------------------------\u001b[0m",
      "\u001b[0;31mNameError\u001b[0m                                 Traceback (most recent call last)",
      "\u001b[0;32m/tmp/ipykernel_30070/2167009006.py\u001b[0m in \u001b[0;36m<module>\u001b[0;34m\u001b[0m\n\u001b[0;32m----> 1\u001b[0;31m \u001b[0ma\u001b[0m\u001b[0;34m\u001b[0m\u001b[0;34m\u001b[0m\u001b[0m\n\u001b[0m",
      "\u001b[0;31mNameError\u001b[0m: name 'a' is not defined"
     ]
    }
   ],
   "source": [
    "a"
   ]
  },
  {
   "cell_type": "markdown",
   "id": "496af8f6",
   "metadata": {},
   "source": [
    "## Question 2\n",
    "Function fileLength(), given to you, takes the name of a file as input and returns\n",
    "the length of the file:\n",
    "\n",
    "\n",
    "fileLength('midterm.py')\n",
    "284\n",
    "fileLength('idterm.py')\n",
    "Traceback (most recent call last):\n",
    "File \"<pyshell#34>\", line 1, in <module>\n",
    "fileLength('idterm.py')\n",
    "File \"/Users/me/midterm.py\", line 3, in fileLength\n",
    "infile = open(filename)\n",
    "FileNotFoundError: [Errno 2] No such file or directory:\n",
    "'idterm.py'\n",
    "\n",
    "\n",
    "As shown above, if the file cannot be found by the interpreter or if it cannot be read\n",
    "as a text file, an exception will be raised. Modify function fileLength() so that a\n",
    "friendly message is printed instead:"
   ]
  },
  {
   "cell_type": "code",
   "execution_count": 7,
   "id": "8d678afc",
   "metadata": {},
   "outputs": [],
   "source": [
    "def fileLength(file_name):\n",
    "    try:\n",
    "        file = open(file_name)\n",
    "        contents = file.read()\n",
    "        file.close()\n",
    "        print(len(contents))        \n",
    "    except:\n",
    "        print('File',file_name, 'not found')        "
   ]
  },
  {
   "cell_type": "code",
   "execution_count": 8,
   "id": "c3069245",
   "metadata": {},
   "outputs": [
    {
     "name": "stdout",
     "output_type": "stream",
     "text": [
      "File idterm.py not found\n"
     ]
    }
   ],
   "source": [
    "fileLength('idterm.py')"
   ]
  },
  {
   "cell_type": "markdown",
   "id": "27a39038",
   "metadata": {},
   "source": [
    "## Question 3 \n",
    "Write a class named Marsupial that can be used as shown below:"
   ]
  },
  {
   "cell_type": "code",
   "execution_count": 9,
   "id": "35e1aa3c",
   "metadata": {},
   "outputs": [],
   "source": [
    "class Marsupial:\n",
    "    # gets the list of marsupial animals so far included\n",
    "    # @return the list of marsupial animals\n",
    "\n",
    "    def __init__(self):\n",
    "        self._animalsList = []  # or = list()\n",
    "        \n",
    "    def put_in_pouch(self,animal):\n",
    "        self._animalsList  = self._animalsList + [animal]   \n",
    "        \n",
    "    def pouch_content(self):\n",
    "        return self._animalsList"
   ]
  },
  {
   "cell_type": "code",
   "execution_count": 10,
   "id": "3f14e731",
   "metadata": {},
   "outputs": [],
   "source": [
    "m = Marsupial()"
   ]
  },
  {
   "cell_type": "code",
   "execution_count": 11,
   "id": "bfeb9287",
   "metadata": {},
   "outputs": [],
   "source": [
    "m.put_in_pouch('doll')"
   ]
  },
  {
   "cell_type": "code",
   "execution_count": 12,
   "id": "f23fb0e8",
   "metadata": {},
   "outputs": [],
   "source": [
    "m.put_in_pouch('firetruck')"
   ]
  },
  {
   "cell_type": "code",
   "execution_count": 13,
   "id": "d9d01fce",
   "metadata": {},
   "outputs": [],
   "source": [
    "m.put_in_pouch('kitten')"
   ]
  },
  {
   "cell_type": "code",
   "execution_count": 14,
   "id": "59c5af9c",
   "metadata": {},
   "outputs": [
    {
     "data": {
      "text/plain": [
       "['doll', 'firetruck', 'kitten']"
      ]
     },
     "execution_count": 14,
     "metadata": {},
     "output_type": "execute_result"
    }
   ],
   "source": [
    "m.pouch_content()"
   ]
  },
  {
   "cell_type": "markdown",
   "id": "1e243995",
   "metadata": {},
   "source": [
    "Now write a class named Kangaroo as a subclass of Marsupial that inherits all the\n",
    "attributes of Marsupial and also:\n",
    "a. extends the Marsupial __init__ constructor to take, as input, the\n",
    "coordinates x and y of the Kangaroo object,\n",
    "b. supports method jump that takes number values dx and dy as input and\n",
    "moves the kangaroo by dx units along the x-axis and by dy units along the y-\n",
    "axis, and\n",
    "c. overloads the __str__ operator so it behaves as shown below."
   ]
  },
  {
   "cell_type": "code",
   "execution_count": 15,
   "id": "5ee09f4f",
   "metadata": {},
   "outputs": [],
   "source": [
    "class Kangaroo(Marsupial):\n",
    "    def __init__(self, xcoord, ycoord ):\n",
    "        self._animalsList = []  # or = list()\n",
    "        self._x = xcoord\n",
    "        self._y = ycoord\n",
    "        \n",
    "    def jump(self,dx,dy):\n",
    "        'change the x and y coordinates by dx and dy'\n",
    "        self._x += dx\n",
    "        self._y += dy    \n",
    "        \n",
    "#    def __repr__(self):\n",
    "#        return 'canonical string representation'\n",
    "    \n",
    "    def __str__(self):\n",
    "        'canonical string representation Point(x, y)'\n",
    "        return 'I am a Kangaroo located at coordinates '+ '({}, {})'.format(self._x, self._y) "
   ]
  },
  {
   "cell_type": "code",
   "execution_count": 16,
   "id": "55274fd5",
   "metadata": {},
   "outputs": [],
   "source": [
    "k=Kangaroo(0,0)"
   ]
  },
  {
   "cell_type": "code",
   "execution_count": 17,
   "id": "95040223",
   "metadata": {},
   "outputs": [
    {
     "name": "stdout",
     "output_type": "stream",
     "text": [
      "I am a Kangaroo located at coordinates (0, 0)\n"
     ]
    }
   ],
   "source": [
    "print(k)"
   ]
  },
  {
   "cell_type": "code",
   "execution_count": 18,
   "id": "f80aed8e",
   "metadata": {},
   "outputs": [],
   "source": [
    "k.put_in_pouch('doll')"
   ]
  },
  {
   "cell_type": "code",
   "execution_count": 19,
   "id": "0448fada",
   "metadata": {},
   "outputs": [],
   "source": [
    "k.put_in_pouch('firetruck')"
   ]
  },
  {
   "cell_type": "code",
   "execution_count": 20,
   "id": "acb06f31",
   "metadata": {},
   "outputs": [],
   "source": [
    "k.put_in_pouch('kitten')"
   ]
  },
  {
   "cell_type": "code",
   "execution_count": 21,
   "id": "ead2d988",
   "metadata": {},
   "outputs": [
    {
     "data": {
      "text/plain": [
       "['doll', 'firetruck', 'kitten']"
      ]
     },
     "execution_count": 21,
     "metadata": {},
     "output_type": "execute_result"
    }
   ],
   "source": [
    "k.pouch_content()"
   ]
  },
  {
   "cell_type": "code",
   "execution_count": 22,
   "id": "234d2d10",
   "metadata": {},
   "outputs": [],
   "source": [
    "k.jump(1,0)"
   ]
  },
  {
   "cell_type": "code",
   "execution_count": 23,
   "id": "7aa6cdc2",
   "metadata": {},
   "outputs": [],
   "source": [
    "k.jump(1,0)"
   ]
  },
  {
   "cell_type": "code",
   "execution_count": 24,
   "id": "e15bfd65",
   "metadata": {},
   "outputs": [],
   "source": [
    "k.jump(1,0)"
   ]
  },
  {
   "cell_type": "code",
   "execution_count": 25,
   "id": "d82a1f5d",
   "metadata": {},
   "outputs": [
    {
     "name": "stdout",
     "output_type": "stream",
     "text": [
      "I am a Kangaroo located at coordinates (3, 0)\n"
     ]
    }
   ],
   "source": [
    "print(k)"
   ]
  },
  {
   "cell_type": "markdown",
   "id": "c021c689",
   "metadata": {},
   "source": [
    "## Question 4\n",
    "Write function collatz() that takes a positive integer x as input and prints the\n",
    "Collatz sequence starting at x. A Collatz sequence is\n",
    "\n",
    "\\begin{equation}\n",
    "x=\n",
    " \\begin{cases} \n",
    "      \\frac{x}{2} & x \\text{ is even} \\\\\n",
    "      3x + 1 & x \\text{ is odd} \n",
    "   \\end{cases}\n",
    "\\end{equation}\n",
    "\n",
    "Your function should stop when the sequence gets to number 1. Your\n",
    "implementation must be recursive, without any loops."
   ]
  },
  {
   "cell_type": "code",
   "execution_count": 26,
   "id": "5df89a8f",
   "metadata": {},
   "outputs": [],
   "source": [
    "def collatz(n):\n",
    "    'prints a sequence of numbers'\n",
    "#    if(isinstance(n,int)):    \n",
    "    if(type(n) == int and n >0):\n",
    "        if n <=1:         \n",
    "            print(int(n))\n",
    "        else:            \n",
    "            if(n % 2 == 0):\n",
    "                print(int(n))             \n",
    "                collatz(int(n/2))\n",
    "\n",
    "            else:\n",
    "                print(int(n))            \n",
    "                collatz(int(3*n+1))\n",
    "    else:            \n",
    "        print('{}'.format(n), 'is not a positive integer')"
   ]
  },
  {
   "cell_type": "code",
   "execution_count": 27,
   "id": "10c019c0",
   "metadata": {},
   "outputs": [
    {
     "name": "stdout",
     "output_type": "stream",
     "text": [
      "1\n"
     ]
    }
   ],
   "source": [
    "collatz(1)"
   ]
  },
  {
   "cell_type": "code",
   "execution_count": 28,
   "id": "2dc12498",
   "metadata": {},
   "outputs": [
    {
     "name": "stdout",
     "output_type": "stream",
     "text": [
      "10\n",
      "5\n",
      "16\n",
      "8\n",
      "4\n",
      "2\n",
      "1\n"
     ]
    }
   ],
   "source": [
    "collatz(10)"
   ]
  },
  {
   "cell_type": "markdown",
   "id": "01347310",
   "metadata": {},
   "source": [
    "## Question 5\n",
    "Write a recursive method binary() that takes a non-negative\n",
    "integer n and prints the binary representation of integer n."
   ]
  },
  {
   "cell_type": "code",
   "execution_count": 29,
   "id": "cbcaf41a",
   "metadata": {},
   "outputs": [],
   "source": [
    "def binary(n):\n",
    "    'converts decimal to binary'\n",
    "\n",
    "    if n==0:\n",
    "        return n\n",
    "\n",
    "    elif(type(n) == int and n > 0):\n",
    "            binary(n // 2)\n",
    "            return print(n%2, end = '')            \n",
    "\n",
    "        \n",
    "    else:            \n",
    "        return print('{}'.format(n), 'is not non-negative number or not integer')"
   ]
  },
  {
   "cell_type": "code",
   "execution_count": 30,
   "id": "9e4b2a06",
   "metadata": {},
   "outputs": [
    {
     "data": {
      "text/plain": [
       "0"
      ]
     },
     "execution_count": 30,
     "metadata": {},
     "output_type": "execute_result"
    }
   ],
   "source": [
    "binary(0)"
   ]
  },
  {
   "cell_type": "code",
   "execution_count": 31,
   "id": "17358091",
   "metadata": {},
   "outputs": [
    {
     "name": "stdout",
     "output_type": "stream",
     "text": [
      "1"
     ]
    }
   ],
   "source": [
    "binary(1)"
   ]
  },
  {
   "cell_type": "code",
   "execution_count": 32,
   "id": "730e10c2",
   "metadata": {},
   "outputs": [
    {
     "name": "stdout",
     "output_type": "stream",
     "text": [
      "11"
     ]
    }
   ],
   "source": [
    "binary(3)"
   ]
  },
  {
   "cell_type": "code",
   "execution_count": 33,
   "id": "498cdd22",
   "metadata": {},
   "outputs": [
    {
     "name": "stdout",
     "output_type": "stream",
     "text": [
      "1001"
     ]
    }
   ],
   "source": [
    "binary(9)"
   ]
  },
  {
   "cell_type": "markdown",
   "id": "53ac4570",
   "metadata": {},
   "source": [
    "# Question 6\n",
    "Implement a class named HeadingParser that can be used to parse an HTML\n",
    "document, and retrieve and print all the headings in the document. You should\n",
    "implement your class as a subclass of HTMLParser, defined in Standard Library\n",
    "module html.parser. When fed a string containing HTML code, your class should\n",
    "print the headings, one per line and in the order in which they appear in the\n",
    "document. Each heading should be indented as follows: an h1 heading should have\n",
    "indentation 0, and h2 heading should have indentation 1, etc. Test your\n",
    "implementation using w3c.html."
   ]
  },
  {
   "cell_type": "code",
   "execution_count": 34,
   "id": "71a75eb7",
   "metadata": {},
   "outputs": [],
   "source": [
    "from html.parser import HTMLParser\n",
    "class HeadingParser(HTMLParser):\n",
    "    \n",
    "    def __init__(self):\n",
    "        'initializes parser, the url, and a list'\n",
    "        HTMLParser.__init__(self)\n",
    "        self.inHeading = False\n",
    "        self.indentvar = 0    \n",
    "\n",
    "    def handle_starttag(self, tag, attrs):\n",
    "        'print value of href attribute if any'\n",
    "        if tag == 'h1':\n",
    "            self.inHeading=True\n",
    "        elif tag == 'h2':\n",
    "            self.inHeading=True\n",
    "            self.indentvar=1\n",
    "\n",
    "    def handle_endtag(self, tag):\n",
    "        'print value of href attribute if any'\n",
    "        if tag == 'h1':\n",
    "            self.inHeading=False\n",
    "        elif tag == 'h2':\n",
    "            self.inHeading=False\n",
    "            \n",
    "    def handle_data(self,data):\n",
    "        if (self.inHeading and self.indentvar ==0):   # for the header h1\n",
    "            print(data)\n",
    "        elif (self.inHeading and self.indentvar ==1): # for the header h2\n",
    "            print(' ',data)                           # indentation"
   ]
  },
  {
   "cell_type": "code",
   "execution_count": 35,
   "id": "26cf5092",
   "metadata": {},
   "outputs": [
    {
     "name": "stdout",
     "output_type": "stream",
     "text": [
      "W3C Mission\n",
      "  Principles\n"
     ]
    }
   ],
   "source": [
    "infile = open('w3c.html') \n",
    "content = infile.read() \n",
    "infile.close() \n",
    "headingparser = HeadingParser() \n",
    "headingparser.feed(content) "
   ]
  },
  {
   "cell_type": "markdown",
   "id": "c06c0098",
   "metadata": {},
   "source": [
    "# Question 7 \n",
    "Implement recursive function webdir() that takes as input: a URL (as a string) and\n",
    "non-negative integers depth and indent. Your function should visit every web\n",
    "page reachable from the starting URL web page in depth clicks or less, and print\n",
    "each web page's URL. As shown below, indentation, specified by indent, should\n",
    "be used to indicate the depth of a URL."
   ]
  },
  {
   "cell_type": "code",
   "execution_count": 36,
   "id": "d7a3f829",
   "metadata": {},
   "outputs": [],
   "source": [
    "from urllib.parse import urljoin\n",
    "from urllib.request import urlopen\n",
    "from html.parser import HTMLParser\n",
    "class Collector(HTMLParser):\n",
    "    'collects hyperlink URLs into a list'\n",
    "\n",
    "    def __init__(self, url):\n",
    "        'initializes parser, the url, and a list'\n",
    "        HTMLParser.__init__(self)\n",
    "        self.url = url\n",
    "        self.links = []\n",
    "\n",
    "    \n",
    "    def handle_starttag(self, tag, attrs):\n",
    "        'collects hyperlink URLs in their absolute format'\n",
    "        if tag == 'a':\n",
    "            for attr in attrs:\n",
    "                if attr[0] == 'href':\n",
    "                    # construct absolute URL\n",
    "                    absolute = urljoin(self.url, attr[1])\n",
    "                    if absolute[:4] == 'http': # collect HTTP URLs\n",
    "                        self.links.append(absolute)\n",
    "                        \n",
    "    def getLinks(self):\n",
    "        'returns hyperlinks URLs in their absolute format'\n",
    "        return self.links"
   ]
  },
  {
   "cell_type": "code",
   "execution_count": 37,
   "id": "ebcd80f7",
   "metadata": {},
   "outputs": [],
   "source": [
    "from html.parser import HTMLParser\n",
    "\n",
    "def analyze(url):\n",
    "    \n",
    "    if len(visited) ==1:\n",
    "        print(url)           # for testing\n",
    "\n",
    "    # obtain links in the web page\n",
    "    content = urlopen(url).read().decode()\n",
    "    collector = Collector(url)\n",
    "    collector.feed(content)\n",
    "    urls = collector.getLinks()          # get list of links\n",
    "\n",
    "\n",
    "    return urls"
   ]
  },
  {
   "cell_type": "code",
   "execution_count": 38,
   "id": "b4d8044d",
   "metadata": {},
   "outputs": [],
   "source": [
    "visited= set() # initialize visited to an empty set\n",
    "\n",
    "def webdir(url,depth):\n",
    "    '''a recursive web crawler that calls analyze()\n",
    "       on every visited web page'''\n",
    "   \n",
    "    first_url=url\n",
    "    # add url to set of visited pages\n",
    "    global visited     # warns the programmer \n",
    "    visited.add(url)\n",
    "\n",
    "    # analyze() returns a list of hyperlink URLs in web page url \n",
    "    links = analyze(url)\n",
    "\n",
    "    # recursively continue crawl from every link in links\n",
    "    for link in links:\n",
    "        # follow link only if not visited\n",
    "        if link not in visited:\n",
    "            try:                \n",
    "                if len(visited) <= depth:\n",
    "#                    print('visited num =',len(visited))\n",
    "#                    print(' ',link)\n",
    "                    if len(visited) <= (depth-1):\n",
    "                        print( (depth-1)*'\\t',link)\n",
    "                    print( depth*'\\t',link)\n",
    "                webdir(link,depth)                \n",
    "            except:\n",
    "                pass"
   ]
  },
  {
   "cell_type": "code",
   "execution_count": 39,
   "id": "222355a5",
   "metadata": {},
   "outputs": [
    {
     "name": "stdout",
     "output_type": "stream",
     "text": [
      "http://reed.cs.depaul.edu/lperkovic/one.html\n",
      "\t http://reed.cs.depaul.edu/lperkovic/two.html\n",
      "\t\t http://reed.cs.depaul.edu/lperkovic/two.html\n",
      "\t\t http://reed.cs.depaul.edu/lperkovic/four.html\n"
     ]
    }
   ],
   "source": [
    "webdir('http://reed.cs.depaul.edu/lperkovic/one.html',2)"
   ]
  },
  {
   "cell_type": "markdown",
   "id": "b790378d",
   "metadata": {},
   "source": [
    "## Question 8\n",
    "Write SQL queries on the below database table that return:"
   ]
  },
  {
   "cell_type": "code",
   "execution_count": 6,
   "id": "829bddc2",
   "metadata": {},
   "outputs": [
    {
     "data": {
      "text/plain": [
       "<sqlite3.Cursor at 0x7f571837cf10>"
      ]
     },
     "execution_count": 6,
     "metadata": {},
     "output_type": "execute_result"
    }
   ],
   "source": [
    "import sqlite3\n",
    "#import csv\n",
    "con = sqlite3.connect('TemAndRain.db')\n",
    "cur = con.cursor()\n",
    "cur.execute('DROP TABLE IF EXISTS MyTable')"
   ]
  },
  {
   "cell_type": "code",
   "execution_count": 7,
   "id": "361a808a",
   "metadata": {},
   "outputs": [
    {
     "data": {
      "text/plain": [
       "<sqlite3.Cursor at 0x7f571837cf10>"
      ]
     },
     "execution_count": 7,
     "metadata": {},
     "output_type": "execute_result"
    }
   ],
   "source": [
    "cur.execute(''' CREATE TABLE MyTable(\n",
    "            City text,\n",
    "            Country text,\n",
    "            Season text,\n",
    "            Temperature float,\n",
    "            Rainfall float\n",
    "                                    )\n",
    "            ''')"
   ]
  },
  {
   "cell_type": "code",
   "execution_count": 8,
   "id": "e51684b3",
   "metadata": {},
   "outputs": [
    {
     "data": {
      "text/plain": [
       "<sqlite3.Cursor at 0x7f571837cf10>"
      ]
     },
     "execution_count": 8,
     "metadata": {},
     "output_type": "execute_result"
    }
   ],
   "source": [
    "cur.execute('''\n",
    "INSERT INTO MyTable (City, Country, Season,Temperature, Rainfall)\n",
    "\n",
    "VALUES\n",
    " ('Mumbai', 'India', 'Winter', 24.8, 5.9),\n",
    " ('Mumbai', 'India', 'Spring', 28.4, 16.2),\n",
    " ('Mumbai', 'India', 'Summer', 27.9, 1549.4),\n",
    " ('Mumbai', 'India', 'Fall', 27.6, 346),\n",
    " ('London', 'United Kingdom', 'Winter', 4.2, 207.7),\n",
    " ('London', 'United Kingdom', 'Spring', 8.3, 169.6),\n",
    " ('London', 'United Kingdom', 'Summer', 15.7, 157),\n",
    " ('London', 'United Kingdom', 'Fall', 10.4, 218.5),\n",
    " ('Cairo', 'Egypt', 'Winter', 13.6, 16.5),\n",
    " ('Cairo', 'Egypt', 'Spring', 20.7, 6.5),\n",
    " ('Cairo', 'Egypt', 'Summer', 27.7, 0.1),\n",
    " ('Cairo', 'Egypt', 'Fall', 22.2, 4.5)\n",
    "'''\n",
    ")"
   ]
  },
  {
   "cell_type": "code",
   "execution_count": 9,
   "id": "b5795c40",
   "metadata": {},
   "outputs": [
    {
     "name": "stdout",
     "output_type": "stream",
     "text": [
      "('London', 'United Kingdom', 'Winter', 4.2, 207.7)\n",
      "('London', 'United Kingdom', 'Spring', 8.3, 169.6)\n",
      "('London', 'United Kingdom', 'Fall', 10.4, 218.5)\n",
      "('Cairo', 'Egypt', 'Winter', 13.6, 16.5)\n",
      "('London', 'United Kingdom', 'Summer', 15.7, 157.0)\n",
      "('Cairo', 'Egypt', 'Spring', 20.7, 6.5)\n",
      "('Cairo', 'Egypt', 'Fall', 22.2, 4.5)\n",
      "('Mumbai', 'India', 'Winter', 24.8, 5.9)\n",
      "('Mumbai', 'India', 'Fall', 27.6, 346.0)\n",
      "('Cairo', 'Egypt', 'Summer', 27.7, 0.1)\n",
      "('Mumbai', 'India', 'Summer', 27.9, 1549.4)\n",
      "('Mumbai', 'India', 'Spring', 28.4, 16.2)\n"
     ]
    }
   ],
   "source": [
    "for row in cur.execute('SELECT * FROM MyTable ORDER BY Temperature'):\n",
    "        print(row)"
   ]
  },
  {
   "cell_type": "markdown",
   "id": "639c900d",
   "metadata": {},
   "source": [
    "a) All the Temperature data"
   ]
  },
  {
   "cell_type": "code",
   "execution_count": 10,
   "id": "3277d7b5",
   "metadata": {},
   "outputs": [
    {
     "data": {
      "text/plain": [
       "[(24.8,),\n",
       " (28.4,),\n",
       " (27.9,),\n",
       " (27.6,),\n",
       " (4.2,),\n",
       " (8.3,),\n",
       " (15.7,),\n",
       " (10.4,),\n",
       " (13.6,),\n",
       " (20.7,),\n",
       " (27.7,),\n",
       " (22.2,)]"
      ]
     },
     "execution_count": 10,
     "metadata": {},
     "output_type": "execute_result"
    }
   ],
   "source": [
    "cur.execute('SELECT Temperature FROM MyTable') \n",
    "cur.fetchall()"
   ]
  },
  {
   "cell_type": "markdown",
   "id": "fda6f4df",
   "metadata": {},
   "source": [
    "b) All the cities, but without repetition"
   ]
  },
  {
   "cell_type": "code",
   "execution_count": 11,
   "id": "87e92084",
   "metadata": {},
   "outputs": [
    {
     "data": {
      "text/plain": [
       "[('Mumbai',), ('London',), ('Cairo',)]"
      ]
     },
     "execution_count": 11,
     "metadata": {},
     "output_type": "execute_result"
    }
   ],
   "source": [
    "cur.execute('SELECT Distinct City FROM MyTable') \n",
    "cur.fetchall()"
   ]
  },
  {
   "cell_type": "markdown",
   "id": "010c6dfe",
   "metadata": {},
   "source": [
    "c) All the records for India"
   ]
  },
  {
   "cell_type": "code",
   "execution_count": 12,
   "id": "c3fbca07",
   "metadata": {},
   "outputs": [
    {
     "data": {
      "text/plain": [
       "[('Mumbai', 'India', 'Winter', 24.8, 5.9),\n",
       " ('Mumbai', 'India', 'Spring', 28.4, 16.2),\n",
       " ('Mumbai', 'India', 'Summer', 27.9, 1549.4),\n",
       " ('Mumbai', 'India', 'Fall', 27.6, 346.0)]"
      ]
     },
     "execution_count": 12,
     "metadata": {},
     "output_type": "execute_result"
    }
   ],
   "source": [
    "cur.execute('SELECT * FROM MyTable WHERE Country = \"India\" ')\n",
    "#cur.execute('SELECT Url FROM Keywords WHERE Word = ?', (word,))\n",
    "cur.fetchall()"
   ]
  },
  {
   "cell_type": "code",
   "execution_count": 13,
   "id": "cd2a9edc",
   "metadata": {},
   "outputs": [
    {
     "data": {
      "text/plain": [
       "[('Mumbai', 'India', 'Winter', 24.8, 5.9),\n",
       " ('Mumbai', 'India', 'Spring', 28.4, 16.2),\n",
       " ('Mumbai', 'India', 'Summer', 27.9, 1549.4),\n",
       " ('Mumbai', 'India', 'Fall', 27.6, 346.0)]"
      ]
     },
     "execution_count": 13,
     "metadata": {},
     "output_type": "execute_result"
    }
   ],
   "source": [
    "country = 'India'\n",
    "cur.execute('SELECT * FROM MyTable WHERE Country = ?', (country,))\n",
    "cur.fetchall()"
   ]
  },
  {
   "cell_type": "markdown",
   "id": "a5f7f928",
   "metadata": {},
   "source": [
    "d) All the Fall records"
   ]
  },
  {
   "cell_type": "code",
   "execution_count": 14,
   "id": "07b33d47",
   "metadata": {},
   "outputs": [
    {
     "data": {
      "text/plain": [
       "[('Mumbai', 'India', 'Fall', 27.6, 346.0),\n",
       " ('London', 'United Kingdom', 'Fall', 10.4, 218.5),\n",
       " ('Cairo', 'Egypt', 'Fall', 22.2, 4.5)]"
      ]
     },
     "execution_count": 14,
     "metadata": {},
     "output_type": "execute_result"
    }
   ],
   "source": [
    "season = 'Fall'\n",
    "cur.execute('SELECT * FROM MyTable WHERE Season = ?', (season,))\n",
    "cur.fetchall()"
   ]
  },
  {
   "cell_type": "markdown",
   "id": "a7ac0df9",
   "metadata": {},
   "source": [
    "e) The city, country, and season for which the average rainfall is between 200 and 400 millimeters."
   ]
  },
  {
   "cell_type": "code",
   "execution_count": 51,
   "id": "292f8b3e",
   "metadata": {},
   "outputs": [
    {
     "data": {
      "text/plain": [
       "[('Mumbai', 'India'),\n",
       " ('London', 'United Kingdom'),\n",
       " ('London', 'United Kingdom')]"
      ]
     },
     "execution_count": 51,
     "metadata": {},
     "output_type": "execute_result"
    }
   ],
   "source": [
    "lowRainfall, highRainfall = 200, 400\n",
    "cur.execute('SELECT City,Country FROM MyTable WHERE Rainfall >= ? AND Rainfall <= ?', (lowRainfall, highRainfall) )\n",
    "cur.fetchall()"
   ]
  },
  {
   "cell_type": "code",
   "execution_count": 52,
   "id": "bf0e386c",
   "metadata": {},
   "outputs": [
    {
     "data": {
      "text/plain": [
       "[(224.82499999999996,)]"
      ]
     },
     "execution_count": 52,
     "metadata": {},
     "output_type": "execute_result"
    }
   ],
   "source": [
    "cur.execute('SELECT AVG(Rainfall) FROM MyTable')\n",
    "cur.fetchall()"
   ]
  },
  {
   "cell_type": "markdown",
   "id": "70f18e07",
   "metadata": {},
   "source": [
    "f) The city and country for which the average Fall temperature is above 20\n",
    "degrees, in increasing temperature order."
   ]
  },
  {
   "cell_type": "code",
   "execution_count": 53,
   "id": "b22c10f4",
   "metadata": {},
   "outputs": [
    {
     "data": {
      "text/plain": [
       "[('Cairo', 'Egypt'), ('Mumbai', 'India')]"
      ]
     },
     "execution_count": 53,
     "metadata": {},
     "output_type": "execute_result"
    }
   ],
   "source": [
    "season, temperature = 'Fall', 20\n",
    "cur.execute('SELECT City,Country FROM MyTable WHERE Season = ? AND Temperature > ? ORDER BY Temperature;', (season, temperature) )\n",
    "cur.fetchall()"
   ]
  },
  {
   "cell_type": "markdown",
   "id": "58054283",
   "metadata": {},
   "source": [
    "g) The total annual rainfall for Cairo."
   ]
  },
  {
   "cell_type": "code",
   "execution_count": 54,
   "id": "1becf87d",
   "metadata": {},
   "outputs": [
    {
     "data": {
      "text/plain": [
       "[(27.6,)]"
      ]
     },
     "execution_count": 54,
     "metadata": {},
     "output_type": "execute_result"
    }
   ],
   "source": [
    "city = 'Cairo'\n",
    "cur.execute('SELECT SUM(Rainfall) FROM MyTable WHERE City = ?', (city,) )\n",
    "cur.fetchall()\n",
    "\n",
    "#SELECT SUM(column_name)\n",
    "#FROM table_name\n",
    "#WHERE condition;"
   ]
  },
  {
   "cell_type": "markdown",
   "id": "80df3ccd",
   "metadata": {},
   "source": [
    "h) The total rainfall for each season."
   ]
  },
  {
   "cell_type": "code",
   "execution_count": 55,
   "id": "9671537d",
   "metadata": {},
   "outputs": [
    {
     "data": {
      "text/plain": [
       "[(569.0, 'Fall'),\n",
       " (192.29999999999998, 'Spring'),\n",
       " (1706.5, 'Summer'),\n",
       " (230.1, 'Winter')]"
      ]
     },
     "execution_count": 55,
     "metadata": {},
     "output_type": "execute_result"
    }
   ],
   "source": [
    "cur.execute('SELECT SUM(Rainfall),Season FROM MyTable GROUP BY Season' )\n",
    "cur.fetchall()"
   ]
  },
  {
   "cell_type": "code",
   "execution_count": 56,
   "id": "dbf329a9",
   "metadata": {},
   "outputs": [
    {
     "data": {
      "text/plain": [
       "[(569.0,)]"
      ]
     },
     "execution_count": 56,
     "metadata": {},
     "output_type": "execute_result"
    }
   ],
   "source": [
    "season = 'Fall'\n",
    "cur.execute('SELECT SUM(Rainfall) FROM MyTable WHERE Season = ?', (season,) )\n",
    "cur.fetchall()"
   ]
  },
  {
   "cell_type": "code",
   "execution_count": 57,
   "id": "d521711b",
   "metadata": {},
   "outputs": [],
   "source": [
    "con.commit()\n",
    "con.close()"
   ]
  },
  {
   "cell_type": "markdown",
   "id": "fbcb096b",
   "metadata": {},
   "source": [
    "## Question 9\n",
    "Suppose list words is defined as follows:"
   ]
  },
  {
   "cell_type": "code",
   "execution_count": 58,
   "id": "01511475",
   "metadata": {},
   "outputs": [],
   "source": [
    "words = ['The', 'quick', 'brown', 'fox', 'jumps', 'over','the', 'lazy', 'dog']"
   ]
  },
  {
   "cell_type": "markdown",
   "id": "eeba3b78",
   "metadata": {},
   "source": [
    "Write list comprehension expressions that use list words and generate the following\n",
    "lists:"
   ]
  },
  {
   "cell_type": "markdown",
   "id": "ded1273f",
   "metadata": {},
   "source": [
    "a)  ['THE', 'QUICK', 'BROWN', 'FOX', 'JUMPS', 'OVER', 'THE','LAZY', 'DOG']"
   ]
  },
  {
   "cell_type": "code",
   "execution_count": 59,
   "id": "8e3d992c",
   "metadata": {},
   "outputs": [
    {
     "data": {
      "text/plain": [
       "['THE', 'QUICK', 'BROWN', 'FOX', 'JUMPS', 'OVER', 'THE', 'LAZY', 'DOG']"
      ]
     },
     "execution_count": 59,
     "metadata": {},
     "output_type": "execute_result"
    }
   ],
   "source": [
    "new_words = [word.upper()  for word in words]\n",
    "new_words"
   ]
  },
  {
   "cell_type": "markdown",
   "id": "33e57ddd",
   "metadata": {},
   "source": [
    "b)  ['the', 'quick', 'brown', 'fox', 'jumps', 'over', 'the',\n",
    "'lazy', 'dog']"
   ]
  },
  {
   "cell_type": "code",
   "execution_count": 60,
   "id": "d62825df",
   "metadata": {},
   "outputs": [
    {
     "data": {
      "text/plain": [
       "['the', 'quick', 'brown', 'fox', 'jumps', 'over', 'the', 'lazy', 'dog']"
      ]
     },
     "execution_count": 60,
     "metadata": {},
     "output_type": "execute_result"
    }
   ],
   "source": [
    "new_words = [word.lower()  for word in words]\n",
    "new_words"
   ]
  },
  {
   "cell_type": "markdown",
   "id": "45a5e541",
   "metadata": {},
   "source": [
    "c) [3, 5, 5, 3, 5, 4, 3, 4, 3] (the list of lengths of words in list\n",
    "words)."
   ]
  },
  {
   "cell_type": "code",
   "execution_count": 61,
   "id": "1a141299",
   "metadata": {},
   "outputs": [
    {
     "data": {
      "text/plain": [
       "[3, 5, 5, 3, 5, 4, 3, 4, 3]"
      ]
     },
     "execution_count": 61,
     "metadata": {},
     "output_type": "execute_result"
    }
   ],
   "source": [
    "new_words = [len(word)  for word in words]\n",
    "new_words"
   ]
  },
  {
   "cell_type": "markdown",
   "id": "d9f6a987",
   "metadata": {},
   "source": [
    "d) [['THE', 'the', 3], ['QUICK', 'quick', 5], ['BROWN',\n",
    "'brown', 5], ['FOX', 'fox', 3], ['JUMPS', 'jumps', 5],\n",
    "['OVER', 'over', 4], ['THE', 'the', 3], ['LAZY', 'lazy',\n",
    "4], ['DOG', 'dog', 3]] (the list containing a list for every word of list\n",
    "words, where each list contains the word in uppercase and lowercase and the\n",
    "length of the word.)"
   ]
  },
  {
   "cell_type": "code",
   "execution_count": 62,
   "id": "97745d00",
   "metadata": {},
   "outputs": [
    {
     "data": {
      "text/plain": [
       "[['THE', 'the', 3],\n",
       " ['QUICK', 'quick', 5],\n",
       " ['BROWN', 'brown', 5],\n",
       " ['FOX', 'fox', 3],\n",
       " ['JUMPS', 'jumps', 5],\n",
       " ['OVER', 'over', 4],\n",
       " ['THE', 'the', 3],\n",
       " ['LAZY', 'lazy', 4],\n",
       " ['DOG', 'dog', 3]]"
      ]
     },
     "execution_count": 62,
     "metadata": {},
     "output_type": "execute_result"
    }
   ],
   "source": [
    "new_words = [[word.upper(),word.lower(),len(word)] for word in words]\n",
    "new_words"
   ]
  },
  {
   "cell_type": "markdown",
   "id": "bf78a63c",
   "metadata": {},
   "source": [
    "e) ['The', 'quick', 'brown', 'fox', 'jumps', 'over', 'the',\n",
    "'lazy', 'dog'] (the list of words in list words containing 4 or more\n",
    "characters.)"
   ]
  },
  {
   "cell_type": "code",
   "execution_count": 63,
   "id": "c71046e7",
   "metadata": {},
   "outputs": [
    {
     "data": {
      "text/plain": [
       "['quick', 'brown', 'jumps', 'over', 'lazy']"
      ]
     },
     "execution_count": 63,
     "metadata": {},
     "output_type": "execute_result"
    }
   ],
   "source": [
    "new_words = [word for word in words if len(word)>=4]\n",
    "new_words"
   ]
  },
  {
   "cell_type": "code",
   "execution_count": null,
   "id": "a474bc0e",
   "metadata": {},
   "outputs": [],
   "source": []
  }
 ],
 "metadata": {
  "kernelspec": {
   "display_name": "Python 3 (ipykernel)",
   "language": "python",
   "name": "python3"
  },
  "language_info": {
   "codemirror_mode": {
    "name": "ipython",
    "version": 3
   },
   "file_extension": ".py",
   "mimetype": "text/x-python",
   "name": "python",
   "nbconvert_exporter": "python",
   "pygments_lexer": "ipython3",
   "version": "3.8.11"
  }
 },
 "nbformat": 4,
 "nbformat_minor": 5
}
